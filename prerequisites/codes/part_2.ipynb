{
 "cells": [
  {
   "cell_type": "markdown",
   "id": "ea5c3937-c055-47cd-a8ac-601578b094ff",
   "metadata": {},
   "source": [
    "## Part 2: Implementation using numpy"
   ]
  },
  {
   "cell_type": "code",
   "execution_count": 83,
   "id": "db1e37de-fc1b-4903-950c-ccea25f88d47",
   "metadata": {},
   "outputs": [],
   "source": [
    "import numpy as np\n",
    "import pandas as pd\n",
    "import matplotlib.pyplot as plt"
   ]
  },
  {
   "cell_type": "code",
   "execution_count": 84,
   "id": "d8bcc920-fccd-4ae1-b876-5fd2299eb955",
   "metadata": {},
   "outputs": [],
   "source": [
    "def mse(y_pred, y_true):\n",
    "    m = len(y_true)\n",
    "    return np.sum((y_pred - y_true)  ** 2) / (2*m)"
   ]
  },
  {
   "cell_type": "code",
   "execution_count": 85,
   "id": "6967e422-4723-44de-a4b8-8791e931e3fc",
   "metadata": {},
   "outputs": [],
   "source": [
    "def gradient_descent(X, y, alpha, epochs):\n",
    "    m, n = X.shape\n",
    "    weights = np.zeros(n)\n",
    "    bias = 0.0\n",
    "    cost_history = []\n",
    "\n",
    "    for epoch in range(epochs):\n",
    "        y_pred = X.dot(weights) + bias\n",
    "        error = y_pred - y\n",
    "\n",
    "        dw = (1/m) * (X.T.dot(error))\n",
    "        db = (1/m) * (np.sum(error))\n",
    "\n",
    "        weights = weights - alpha*dw\n",
    "        bias = bias - alpha*db\n",
    "\n",
    "        cost = mse(y_pred, y)\n",
    "        cost_history.append(cost)\n",
    "\n",
    "        # if epoch > 0 and abs(cost_history[-2] - cost_history[-1]) < 1e-6:\n",
    "        #     break\n",
    "\n",
    "    return weights, bias, cost_history"
   ]
  },
  {
   "cell_type": "markdown",
   "id": "5b6d0dc4-5a5a-4cc0-b14e-dffc0e305dbf",
   "metadata": {},
   "source": [
    "Noticed that early capping makes training time much less, with no practical impact on other scores"
   ]
  },
  {
   "cell_type": "code",
   "execution_count": 86,
   "id": "c5a22e85-a745-4734-92be-3fc0252b2bcd",
   "metadata": {},
   "outputs": [],
   "source": [
    "# def min_max_scale_X(X):\n",
    "#     if hasattr(X, 'astype'):\n",
    "#         X_numeric = X.astype(float)\n",
    "#     else:\n",
    "#         X_numeric = np.array(X, dtype=float)\n",
    "    \n",
    "#     X_min = np.min(X_numeric, axis=0)\n",
    "#     X_max = np.max(X_numeric, axis=0)\n",
    "#     X_range = X_max - X_min\n",
    "#     X_range[X_range == 0] = 1.0\n",
    "#     X_scaled = (X_numeric - X_min) / X_range\n",
    "#     return X_scaled, X_min, X_range\n",
    "\n",
    "# def min_max_scale_y(y):\n",
    "#     y_min = np.min(y)\n",
    "#     y_max = np.max(y)\n",
    "#     y_range = y_max - y_min\n",
    "#     if y_range == 0:\n",
    "#         y_range = 1.0\n",
    "#     y_scaled = (y - y_min) / y_range\n",
    "#     return y_scaled, y_min, y_range\n",
    "\n",
    "# def predict(X, weights, bias, y_min, y_range):\n",
    "#     y_scaled_pred = X.dot(weights) + bias\n",
    "#     predictions = y_scaled_pred * y_range + y_min\n",
    "#     return predictions"
   ]
  },
  {
   "cell_type": "code",
   "execution_count": 87,
   "id": "8e3ad1b1-ba72-46c6-ad35-d732f9d729dc",
   "metadata": {},
   "outputs": [],
   "source": [
    "def standardize_X(X):\n",
    "    means = np.mean(X, axis=0)\n",
    "    stds = np.std(X, axis=0)\n",
    "    stds[stds == 0] = 1.0 \n",
    "    X_std = (X - means) / stds\n",
    "    return X_std, means, stds\n",
    "\n",
    "def standardize_y(y):\n",
    "    mean = np.mean(y)\n",
    "    std_dev = np.std(y)\n",
    "    std_dev = std_dev if std_dev > 0 else 1.0\n",
    "    y_std = (y - mean) / std_dev\n",
    "    return y_std, mean, std_dev\n",
    "    \n",
    "def predict(X, weights, bias, y_mean, y_std):\n",
    "    y_std_pred = X.dot(weights) + bias\n",
    "    predictions = y_std_pred * y_std + y_mean\n",
    "    return predictions"
   ]
  },
  {
   "cell_type": "markdown",
   "id": "9090688a-0ed1-4ad5-8eab-996f40853e5a",
   "metadata": {},
   "source": [
    "Observation: almost similar results with min-max scaling and standardisation"
   ]
  },
  {
   "cell_type": "code",
   "execution_count": 88,
   "id": "406ba95a-9924-4154-8dfd-dcf821e877a3",
   "metadata": {},
   "outputs": [],
   "source": [
    "import pandas as pd\n",
    "housing = pd.read_csv('california_prepared.csv')\n",
    "\n",
    "# Shuffle the indexes to prevent biasing\n",
    "housing = housing.sample(frac=1, random_state=42).reset_index(drop=True)\n",
    "\n",
    "X = housing.drop('median_house_value', axis=1)  # All columns except the target\n",
    "y = housing['median_house_value']               # Only the target column"
   ]
  },
  {
   "cell_type": "code",
   "execution_count": 89,
   "id": "a2be162d-a182-4a26-890b-a1014b3abec1",
   "metadata": {},
   "outputs": [],
   "source": [
    "def mae(y_pred, y_true):\n",
    "    return np.mean(np.abs(y_pred - y_true))\n",
    "\n",
    "def rmse(y_pred, y_true):\n",
    "    return np.sqrt(np.mean((y_pred - y_true) ** 2))\n",
    "\n",
    "def r2_score(y_pred, y_true):\n",
    "    ss_total = np.sum((y_true - np.mean(y_true)) ** 2)\n",
    "    ss_residual = np.sum((y_true - y_pred) ** 2)\n",
    "    return 1 - (ss_residual / ss_total)"
   ]
  },
  {
   "cell_type": "code",
   "execution_count": 90,
   "id": "f555e661-72b2-4055-a311-aa935bd5df32",
   "metadata": {},
   "outputs": [],
   "source": [
    "def plot_loss(cost_history):\n",
    "    plt.plot(cost_history)\n",
    "    plt.xlabel(\"Epoch\")\n",
    "    plt.ylabel(\"MSE Loss\")\n",
    "    plt.title(\"Training Loss Curve for Numpy Implementation\")\n",
    "    plt.grid(True)\n",
    "    plt.show()"
   ]
  },
  {
   "cell_type": "code",
   "execution_count": 92,
   "id": "aa543295-6872-4d9b-9d25-0faffb3aeb40",
   "metadata": {
    "scrolled": true
   },
   "outputs": [
    {
     "name": "stdout",
     "output_type": "stream",
     "text": [
      "Training Time: 9.023084163665771\n",
      "Final Cost: 0.18476199654246375\n",
      "Final Weights: Unnamed: 0                    0.073399\n",
      "housing_median_age            0.183362\n",
      "median_income                 0.667056\n",
      "log_total_rooms               0.069642\n",
      "rooms_per_household           0.025997\n",
      "room_per_bedroom             -0.112042\n",
      "region_0                      0.058218\n",
      "region_1                     -0.010935\n",
      "region_2                     -0.048606\n",
      "region_3                     -0.008791\n",
      "region_4                     -0.007419\n",
      "region_5                     -0.075385\n",
      "region_6                     -0.059600\n",
      "region_7                      0.048075\n",
      "ocean_proximity_<1H OCEAN     0.045895\n",
      "ocean_proximity_INLAND       -0.175502\n",
      "ocean_proximity_ISLAND        0.023622\n",
      "ocean_proximity_NEAR BAY      0.062062\n",
      "ocean_proximity_NEAR OCEAN    0.116537\n",
      "age_mid_old                   0.030659\n",
      "age_new                       0.033857\n",
      "age_very_old                 -0.048681\n",
      "dtype: float64\n",
      "Final Bias: 0.0005069900098498269\n",
      "Training MAE: 51027.13019924736\n",
      "Training RMSE: 70050.32610654485\n",
      "Training R2 Score: 0.6304760069150724\n",
      "Testing MAE: 51811.13121800899\n",
      "Testing RMSE: 71466.60657429878\n",
      "Testing R2 Score: 0.6205405766304974\n"
     ]
    },
    {
     "data": {
      "image/png": "[encoded data removed]",
      "text/plain": [
       "<Figure size 640x480 with 1 Axes>"
      ]
     },
     "metadata": {},
     "output_type": "display_data"
    }
   ],
   "source": [
    "import time\n",
    "\n",
    "def model():\n",
    "\n",
    "    X_std, means, stds = standardize_X(X)\n",
    "    \n",
    "    train_size = int(0.8 * len(X))\n",
    "    \n",
    "    X_train = X_std[:train_size]\n",
    "    X_test = X_std[train_size:]\n",
    "    \n",
    "    y_train_raw = y[:train_size]\n",
    "    y_test_raw = y[train_size:]\n",
    "    \n",
    "    y_train, y_mean, y_std_dev = standardize_y(y_train_raw)\n",
    "\n",
    "    start_time = time.time()\n",
    "    weights, bias, cost_history = gradient_descent(X_train, y_train, alpha=0.5, epochs=1000)\n",
    "    end_time = time.time()\n",
    "    \n",
    "    print(\"Training Time:\", end_time - start_time)\n",
    "    print(\"Final Cost:\", cost_history[-1])\n",
    "    print(\"Final Weights:\", weights)\n",
    "    print(\"Final Bias:\", bias)\n",
    "\n",
    "    predictions_train = predict(X_train, weights, bias, y_mean, y_std_dev)\n",
    "    predictions_test = predict(X_test, weights, bias, y_mean, y_std_dev)\n",
    "\n",
    "    print(\"Training MAE:\", mae(predictions_train, y_train_raw))\n",
    "    print(\"Training RMSE:\", rmse(predictions_train, y_train_raw))\n",
    "    print(\"Training R2 Score:\", r2_score(predictions_train, y_train_raw))\n",
    "\n",
    "    print(\"Testing MAE:\", mae(predictions_test, y_test_raw))\n",
    "    print(\"Testing RMSE:\", rmse(predictions_test, y_test_raw))\n",
    "    print(\"Testing R2 Score:\", r2_score(predictions_test, y_test_raw))\n",
    "    \n",
    "    plot_loss(cost_history)\n",
    "    \n",
    "model()"
   ]
  },
  {
   "cell_type": "code",
   "execution_count": null,
   "id": "ceabfd5e-e07c-477c-8a8d-b4a622aaaa96",
   "metadata": {},
   "outputs": [],
   "source": []
  }
 ],
 "metadata": {
  "kernelspec": {
   "display_name": "Python 3 (ipykernel)",
   "language": "python",
   "name": "python3"
  },
  "language_info": {
   "codemirror_mode": {
    "name": "ipython",
    "version": 3
   },
   "file_extension": ".py",
   "mimetype": "text/x-python",
   "name": "python",
   "nbconvert_exporter": "python",
   "pygments_lexer": "ipython3",
   "version": "3.13.2"
  }
 },
 "nbformat": 4,
 "nbformat_minor": 5
}
