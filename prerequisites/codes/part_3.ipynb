{
 "cells": [
  {
   "cell_type": "markdown",
   "id": "008095cf",
   "metadata": {},
   "source": [
    "## Part 3: Implementation using Scikit-learn"
   ]
  },
  {
   "cell_type": "code",
   "execution_count": 1,
   "id": "d3b4dd7d",
   "metadata": {},
   "outputs": [],
   "source": [
    "import numpy as np\n",
    "import pandas as pd\n",
    "import time\n",
    "from sklearn.model_selection import train_test_split\n",
    "from sklearn.preprocessing import StandardScaler, MinMaxScaler\n",
    "from sklearn.linear_model import LinearRegression\n",
    "from sklearn.metrics import mean_squared_error, r2_score, mean_absolute_error, r2_score"
   ]
  },
  {
   "cell_type": "code",
   "execution_count": 2,
   "id": "42054a47",
   "metadata": {},
   "outputs": [
    {
     "name": "stdout",
     "output_type": "stream",
     "text": [
      "Training Time: 0.017530441284179688\n",
      "Training MAE: 50826.23366720035\n",
      "Training RMSE: 69766.31335504746\n",
      "Training R2 Score: 0.6358903491822181\n",
      "Testing MAE: 52351.18556675165\n",
      "Testing RMSE: 73292.02001566645\n",
      "Testing R2 Score: 0.5900730010879597\n"
     ]
    }
   ],
   "source": [
    "def model():\n",
    "    \n",
    "    data = pd.read_csv('california_prepared.csv')\n",
    "\n",
    "    X = data.drop('median_house_value', axis=1)\n",
    "    y = data['median_house_value']\n",
    "\n",
    "    X_train, X_test, y_train, y_test = train_test_split(X, y, test_size=0.2, random_state=42)\n",
    "\n",
    "    scaler = MinMaxScaler()\n",
    "    X_train_scaled = scaler.fit_transform(X_train)\n",
    "    X_test_scaled = scaler.transform(X_test)\n",
    "    X_train_scaled = X_train\n",
    "    X_test_scaled = X_test\n",
    "\n",
    "    model = LinearRegression()\n",
    "    start_time = time.time()\n",
    "    model.fit(X_train_scaled, y_train)\n",
    "    end_time = time.time()\n",
    "    \n",
    "    print(\"Training Time:\", (end_time - start_time))\n",
    "\n",
    "    y_pred = model.predict(X_test_scaled)\n",
    "\n",
    "    test_mae = mean_absolute_error(y_test, y_pred)\n",
    "    test_rmse = np.sqrt(mean_squared_error(y_test, y_pred))\n",
    "    test_r2 = r2_score(y_test, y_pred)\n",
    "\n",
    "    train_mae = mean_absolute_error(y_train, model.predict(X_train_scaled))\n",
    "    train_rmse = np.sqrt(mean_squared_error(y_train, model.predict(X_train_scaled)))\n",
    "    train_r2 = r2_score(y_train, model.predict(X_train_scaled))\n",
    "    \n",
    "    print(f\"Training MAE: {train_mae}\")\n",
    "    print(f\"Training RMSE: {train_rmse}\")\n",
    "    print(f\"Training R2 Score: {train_r2}\")\n",
    "\n",
    "\n",
    "    print(f\"Testing MAE: {test_mae}\")\n",
    "    print(f\"Testing RMSE: {test_rmse}\")\n",
    "    print(f\"Testing R2 Score: {test_r2}\")\n",
    "    \n",
    "model()  "
   ]
  },
  {
   "cell_type": "code",
   "execution_count": null,
   "id": "a087cf6c-bafe-4254-afc8-5dc0640bab31",
   "metadata": {},
   "outputs": [],
   "source": []
  }
 ],
 "metadata": {
  "kernelspec": {
   "display_name": "Python 3 (ipykernel)",
   "language": "python",
   "name": "python3"
  },
  "language_info": {
   "codemirror_mode": {
    "name": "ipython",
    "version": 3
   },
   "file_extension": ".py",
   "mimetype": "text/x-python",
   "name": "python",
   "nbconvert_exporter": "python",
   "pygments_lexer": "ipython3",
   "version": "3.13.2"
  }
 },
 "nbformat": 4,
 "nbformat_minor": 5
}
