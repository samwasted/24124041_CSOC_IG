{
 "cells": [
  {
   "cell_type": "code",
   "execution_count": 15,
   "id": "22acb967-062b-43fd-a034-aa097625a4e2",
   "metadata": {},
   "outputs": [],
   "source": [
    "def cost(prediction,label):\n",
    "  s = len(label)\n",
    "  return sum((prediction[i] - label[i]) ** 2 for i in range(s)) / (2 * s)"
   ]
  },
  {
   "cell_type": "code",
   "execution_count": 16,
   "id": "83baf69d-c3ec-4a49-8a8d-d82f04714fb5",
   "metadata": {},
   "outputs": [],
   "source": [
    "def gradient_descent(X, y, alpha=0.01, epochs=1000):\n",
    "    m = len(X)\n",
    "    n = len(X[0])\n",
    "\n",
    "    weights = [0.0] * n\n",
    "    bias = 0.0\n",
    "    cost_history = []\n",
    "\n",
    "    for epoch in range(epochs):\n",
    "        \n",
    "        yp = [\n",
    "            sum(X[i][j] * weights[j] for j in range(n)) + bias\n",
    "            for i in range(m)\n",
    "        ]\n",
    "\n",
    "        error = [yp[i] - y[i] for i in range(m)]\n",
    "\n",
    "        dw = [\n",
    "            sum(X[i][j] * error[i] for i in range(m)) / m\n",
    "            for j in range(n)\n",
    "        ]\n",
    "\n",
    "        db = sum(error) / m\n",
    "\n",
    "        # Update weights and bias\n",
    "        for j in range(n):\n",
    "            weights[j] -= alpha * dw[j]\n",
    "        bias -= alpha * db\n",
    "\n",
    "        # Mean Squared Error cost / 2\n",
    "        cost = sum((yp[i] - y[i]) ** 2 for i in range(m)) / (2 * m)\n",
    "        cost_history.append(cost)\n",
    "\n",
    "        if epoch > 0 and abs(cost_history[-2] - cost_history[-1]) < 1e-6:\n",
    "            break\n",
    "\n",
    "    return weights, bias, cost_history"
   ]
  },
  {
   "cell_type": "code",
   "execution_count": 17,
   "id": "64def44b-b193-4861-b250-60e6bb4b8146",
   "metadata": {},
   "outputs": [],
   "source": [
    "def standardize(X):\n",
    "    m = len(X)\n",
    "    n = len(X[0])\n",
    "\n",
    "    means = [sum(X[i][j] for i in range(m)) / m for j in range(n)]\n",
    "\n",
    "    stds = []\n",
    "    for j in range(n):\n",
    "        variance = sum((X[i][j] - means[j]) ** 2 for i in range(m)) / m\n",
    "        std_dev = variance ** 0.5\n",
    "        stds.append(std_dev if std_dev > 0 else 1.0)\n",
    "\n",
    "    X_std = []\n",
    "    for i in range(m):\n",
    "        std_row = [(X[i][j] - means[j]) / stds[j] for j in range(n)]\n",
    "        X_std.append(std_row)\n",
    "\n",
    "    return X_std, means, stds\n",
    "\n",
    "def standardize_y(y):\n",
    "    mean = sum(y) / len(y)\n",
    "    variance = sum((yi - mean) ** 2 for yi in y) / len(y)\n",
    "    std_dev = variance ** 0.5 if variance > 0 else 1.0\n",
    "    y_std = [(yi - mean) / std_dev for yi in y]\n",
    "    return y_std, mean, std_dev\n",
    "\n",
    "def predict(X, weights, bias, y_mean, y_std):\n",
    "    y_std_pred = [\n",
    "        sum(x[j] * weights[j] for j in range(len(weights))) + bias\n",
    "        for x in X\n",
    "    ]\n",
    "    predictions = [yp * y_std + y_mean for yp in y_std_pred]\n",
    "    return predictions\n"
   ]
  },
  {
   "cell_type": "markdown",
   "id": "9a686249-4f15-4f27-8545-1c5566b28216",
   "metadata": {},
   "source": [
    "Observation: Standardisation is giving better scores than min-max scaling"
   ]
  },
  {
   "cell_type": "code",
   "execution_count": 18,
   "id": "19a0c7bf-f507-4f71-b189-5b7bbdf9de9d",
   "metadata": {},
   "outputs": [],
   "source": [
    "import pandas as pd\n",
    "\n",
    "def load_csv_data(filename):\n",
    "    housing = pd.read_csv(filename)\n",
    "\n",
    "    #shuffles the data randomly\n",
    "    housing = housing.sample(frac=1, random_state=42).reset_index(drop=True)\n",
    "    # Finding index of the target column\n",
    "    target_col = 'median_house_value'\n",
    "\n",
    "    # Convert boolean columns to numeric (0/1)\n",
    "    housing = housing.replace({True: 1.0, False: 0.0})\n",
    "\n",
    "    # Extract X and y, convert as normal arrays\n",
    "    y = housing[target_col].astype(float).tolist()\n",
    "    X = housing.drop(columns=[target_col]).astype(float).values.tolist()\n",
    "    \n",
    "    return X, y"
   ]
  },
  {
   "cell_type": "markdown",
   "id": "654da77f-e9f6-4880-a0ef-2add0321738c",
   "metadata": {},
   "source": [
    "Shuffled the data randomly, to prevent biasing"
   ]
  },
  {
   "cell_type": "code",
   "execution_count": 19,
   "id": "3923b3ef-3d89-42af-a9dc-5ce526d39b53",
   "metadata": {},
   "outputs": [
    {
     "name": "stderr",
     "output_type": "stream",
     "text": [
      "C:\\Users\\LEGION\\AppData\\Local\\Temp\\ipykernel_27808\\34526052.py:12: FutureWarning: Downcasting behavior in `replace` is deprecated and will be removed in a future version. To retain the old behavior, explicitly call `result.infer_objects(copy=False)`. To opt-in to the future behavior, set `pd.set_option('future.no_silent_downcasting', True)`\n",
      "  housing = housing.replace({True: 1.0, False: 0.0})\n"
     ]
    }
   ],
   "source": [
    "X, y = load_csv_data('california_prepared.csv')"
   ]
  },
  {
   "cell_type": "code",
   "execution_count": 20,
   "id": "569d9af5-2bca-4688-a18b-8a74ffdb9c6c",
   "metadata": {},
   "outputs": [],
   "source": [
    "def mae(y_pred, y_true):\n",
    "    n = len(y_true)\n",
    "    total_error = 0\n",
    "    for i in range(n):\n",
    "        total_error += abs(y_pred[i] - y_true[i])\n",
    "    return total_error / n\n",
    "\n",
    "def rmse(y_pred, y_true):\n",
    "    n = len(y_true)\n",
    "    total_squared_error = 0\n",
    "    for i in range(n):\n",
    "        total_squared_error += (y_pred[i] - y_true[i]) ** 2\n",
    "    return (total_squared_error / n) ** 0.5\n",
    "\n",
    "def r2_score(y_pred, y_true):\n",
    "    n = len(y_true)\n",
    "    mean_y = sum(y_true) / n\n",
    "    ss_total = 0\n",
    "    ss_residual = 0\n",
    "    for i in range(n):\n",
    "        ss_total += (y_true[i] - mean_y) ** 2\n",
    "        ss_residual += (y_true[i] - y_pred[i]) ** 2\n",
    "    return 1 - (ss_residual / ss_total)"
   ]
  },
  {
   "cell_type": "code",
   "execution_count": 21,
   "id": "2a596ef9-f62a-4593-911a-c4b3549b460a",
   "metadata": {},
   "outputs": [],
   "source": [
    "import matplotlib.pyplot as plt\n",
    "\n",
    "def plot_loss(cost_history):\n",
    "    plt.plot(cost_history)\n",
    "    plt.xlabel(\"Epoch\")\n",
    "    plt.ylabel(\"MSE Loss\")\n",
    "    plt.title(\"Training Loss Curve for pure Python Implementation\")\n",
    "    plt.grid(True)\n",
    "    plt.show()"
   ]
  },
  {
   "cell_type": "code",
   "execution_count": 22,
   "id": "90d211d3-961a-4b36-8990-6aaf93bb88a3",
   "metadata": {},
   "outputs": [
    {
     "name": "stderr",
     "output_type": "stream",
     "text": [
      "C:\\Users\\LEGION\\AppData\\Local\\Temp\\ipykernel_27808\\34526052.py:12: FutureWarning: Downcasting behavior in `replace` is deprecated and will be removed in a future version. To retain the old behavior, explicitly call `result.infer_objects(copy=False)`. To opt-in to the future behavior, set `pd.set_option('future.no_silent_downcasting', True)`\n",
      "  housing = housing.replace({True: 1.0, False: 0.0})\n"
     ]
    },
    {
     "name": "stdout",
     "output_type": "stream",
     "text": [
      "Training Time: 65.06941294670105\n",
      "Final Cost: 0.18481894239169522\n",
      "Final Weights: [0.0740564093411015, 0.16583208349663686, 0.6559929598619145, 0.06810660538666298, 0.025890887731657607, -0.10227861360022174, 0.06016691172901583, -0.011227643029366904, -0.04909633981466908, -0.008883321052026943, -0.008274518858872822, -0.07722548837925095, -0.06077040274414125, 0.04844451706970851, 0.04593442662019702, -0.17831781609442107, 0.023860747947999552, 0.06440066229048869, 0.11818585238904218, 0.026356747249831038, 0.026401740637320373, -0.040411797914670665]\n",
      "Final Bias: 0.00044608361360409283\n",
      "Training MAE: 51054.73723583868\n",
      "Training RMSE: 70060.93665593947\n",
      "Training R2 Score: 0.6303640545589422\n",
      "Testing MAE: 51862.513956694245\n",
      "Testing RMSE: 71510.44862593221\n",
      "Testing R2 Score: 0.6200748659078814\n"
     ]
    },
    {
     "data": {
      "image/png": "[encoded data removed]",
      "text/plain": [
       "<Figure size 640x480 with 1 Axes>"
      ]
     },
     "metadata": {},
     "output_type": "display_data"
    }
   ],
   "source": [
    "import time\n",
    "\n",
    "def main():\n",
    "    X, y = load_csv_data(\"california_prepared.csv\")\n",
    "    \n",
    "    X_std, means, stds = standardize(X)\n",
    "    \n",
    "    train_size = int(0.8 * len(X))\n",
    "    X_train = X_std[:train_size]\n",
    "    X_test = X_std[train_size:]\n",
    "    y_train_raw = y[:train_size]\n",
    "    y_test = y[train_size:]\n",
    "    \n",
    "    y_train, y_mean, y_std_dev = standardize_y(y_train_raw)\n",
    "\n",
    "    start_time = time.time()\n",
    "    weights, bias, cost_history = gradient_descent(X_train, y_train, alpha=0.05, epochs=1000)\n",
    "    end_time = time.time()\n",
    "    \n",
    "    print(\"Training Time:\", end_time - start_time)\n",
    "    print(\"Final Cost:\", cost_history[-1])\n",
    "    print(\"Final Weights:\", weights)\n",
    "    print(\"Final Bias:\", bias)\n",
    "    \n",
    "    predictions_train = predict(X_train, weights, bias, y_mean, y_std_dev)\n",
    "    predictions_test = predict(X_test, weights, bias, y_mean, y_std_dev)\n",
    "    \n",
    "    print(\"Training MAE:\", mae(predictions_train, y_train_raw))\n",
    "    print(\"Training RMSE:\", rmse(predictions_train, y_train_raw))    \n",
    "    print(\"Training R2 Score:\", r2_score(predictions_train, y_train_raw))\n",
    "    \n",
    "    print(\"Testing MAE:\", mae(predictions_test, y_test))\n",
    "    print(\"Testing RMSE:\", rmse(predictions_test, y_test))\n",
    "    print(\"Testing R2 Score:\", r2_score(predictions_test, y_test))\n",
    "    \n",
    "    plot_loss(cost_history)\n",
    "    \n",
    "if __name__ == \"__main__\":\n",
    "    main()"
   ]
  },
  {
   "cell_type": "code",
   "execution_count": null,
   "id": "a028e384-f089-4e1e-b2f8-c28843f814f2",
   "metadata": {},
   "outputs": [],
   "source": []
  }
 ],
 "metadata": {
  "kernelspec": {
   "display_name": "Python 3 (ipykernel)",
   "language": "python",
   "name": "python3"
  },
  "language_info": {
   "codemirror_mode": {
    "name": "ipython",
    "version": 3
   },
   "file_extension": ".py",
   "mimetype": "text/x-python",
   "name": "python",
   "nbconvert_exporter": "python",
   "pygments_lexer": "ipython3",
   "version": "3.13.2"
  }
 },
 "nbformat": 4,
 "nbformat_minor": 5
}
